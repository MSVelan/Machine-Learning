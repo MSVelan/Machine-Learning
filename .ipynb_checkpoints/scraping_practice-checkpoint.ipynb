{
 "cells": [
  {
   "cell_type": "code",
   "execution_count": 5,
   "id": "0f60d587-aaab-456c-9028-5ae5dcb771c2",
   "metadata": {},
   "outputs": [],
   "source": [
    "import requests\n",
    "from bs4 import BeautifulSoup"
   ]
  },
  {
   "cell_type": "code",
   "execution_count": 6,
   "id": "3de9f3b2-f044-445d-8f2c-f602f92ec570",
   "metadata": {},
   "outputs": [],
   "source": [
    "url = \"https://www.science.org/do/10.1126/article.22864/abs/sn-pandash.jpg\"\n",
    "res = requests.get(url)"
   ]
  },
  {
   "cell_type": "code",
   "execution_count": 7,
   "id": "eb4c5357-6f9f-447a-b9a2-64bae325e50e",
   "metadata": {},
   "outputs": [
    {
     "data": {
      "text/plain": [
       "200"
      ]
     },
     "execution_count": 7,
     "metadata": {},
     "output_type": "execute_result"
    }
   ],
   "source": [
    "res.status_code"
   ]
  },
  {
   "cell_type": "code",
   "execution_count": null,
   "id": "e68ebe75-99e1-44ec-96b0-2f7631a28f07",
   "metadata": {},
   "outputs": [],
   "source": [
    "with open(\"panda.jpg\",\"wb\") as f:\n",
    "    f.write(res.content)"
   ]
  },
  {
   "cell_type": "code",
   "execution_count": 8,
   "id": "3ef0e16e-8957-4ac1-89f1-cbf9dbc669b4",
   "metadata": {},
   "outputs": [],
   "source": [
    "url = \"https://www.goodreads.com/quotes/tag/{}\""
   ]
  },
  {
   "cell_type": "code",
   "execution_count": 9,
   "id": "cf8863e4-4f61-4987-9614-b08f48e6e4d9",
   "metadata": {},
   "outputs": [
    {
     "data": {
      "text/plain": [
       "'https://www.goodreads.com/quotes/tag/life'"
      ]
     },
     "execution_count": 9,
     "metadata": {},
     "output_type": "execute_result"
    }
   ],
   "source": [
    "tag = \"life\"\n",
    "url.format(tag)"
   ]
  },
  {
   "cell_type": "code",
   "execution_count": 10,
   "id": "cd2a4c9d-0347-4a94-8118-d7e9d5d63655",
   "metadata": {},
   "outputs": [],
   "source": [
    "res = requests.get(url.format(tag))"
   ]
  },
  {
   "cell_type": "code",
   "execution_count": 12,
   "id": "bfbf74bc-8a9a-4d11-9bfc-37f36108225a",
   "metadata": {},
   "outputs": [
    {
     "name": "stdout",
     "output_type": "stream",
     "text": [
      "200\n"
     ]
    }
   ],
   "source": [
    "print(res.status_code)"
   ]
  },
  {
   "cell_type": "code",
   "execution_count": 30,
   "id": "d6d389eb-7630-4aa8-98df-e70f08fff217",
   "metadata": {},
   "outputs": [],
   "source": [
    "soup = BeautifulSoup(res.text)"
   ]
  },
  {
   "cell_type": "code",
   "execution_count": 31,
   "id": "544f7f79-bf63-4e64-ac8c-4d57956e5224",
   "metadata": {},
   "outputs": [],
   "source": [
    "divs = soup.find_all(\"div\",class_=\"quoteText\")"
   ]
  },
  {
   "cell_type": "code",
   "execution_count": 33,
   "id": "fd3789c2-88b3-4cf2-96af-67acb5ef3b86",
   "metadata": {},
   "outputs": [],
   "source": [
    "div = divs[0]"
   ]
  },
  {
   "cell_type": "code",
   "execution_count": 63,
   "id": "51c2393d-5b6a-492b-94a2-f54b8aefe825",
   "metadata": {},
   "outputs": [],
   "source": [
    "s = div.text.strip()"
   ]
  },
  {
   "cell_type": "code",
   "execution_count": 64,
   "id": "f285c8ea-58dd-49e9-ac5c-992fa6e02e08",
   "metadata": {},
   "outputs": [],
   "source": [
    "split_array = s.split(\"\\n\")\n",
    "quote = split_array[0]\n",
    "author = split_array[-1].strip()"
   ]
  },
  {
   "cell_type": "code",
   "execution_count": 65,
   "id": "50b1318c-c3ac-4bd3-ae03-375537b1de33",
   "metadata": {},
   "outputs": [],
   "source": [
    "quote = quote[1:-1]"
   ]
  },
  {
   "cell_type": "code",
   "execution_count": 66,
   "id": "6074dede-a50b-40e4-9622-71432a62232d",
   "metadata": {},
   "outputs": [
    {
     "data": {
      "text/plain": [
       "\"I'm selfish, impatient and a little insecure. I make mistakes, I am out of control and at times hard to handle. But if you can't handle me at my worst, then you sure as hell don't deserve me at my best.\""
      ]
     },
     "execution_count": 66,
     "metadata": {},
     "output_type": "execute_result"
    }
   ],
   "source": [
    "quote"
   ]
  },
  {
   "cell_type": "code",
   "execution_count": 67,
   "id": "93e3b034-7fc2-4294-8eed-91cca83467db",
   "metadata": {},
   "outputs": [
    {
     "data": {
      "text/plain": [
       "'Marilyn Monroe'"
      ]
     },
     "execution_count": 67,
     "metadata": {},
     "output_type": "execute_result"
    }
   ],
   "source": [
    "author"
   ]
  },
  {
   "cell_type": "code",
   "execution_count": null,
   "id": "c8d646b0-684b-4608-87ed-0a508374e773",
   "metadata": {},
   "outputs": [],
   "source": []
  }
 ],
 "metadata": {
  "kernelspec": {
   "display_name": "Python 3 (ipykernel)",
   "language": "python",
   "name": "python3"
  },
  "language_info": {
   "codemirror_mode": {
    "name": "ipython",
    "version": 3
   },
   "file_extension": ".py",
   "mimetype": "text/x-python",
   "name": "python",
   "nbconvert_exporter": "python",
   "pygments_lexer": "ipython3",
   "version": "3.10.12"
  }
 },
 "nbformat": 4,
 "nbformat_minor": 5
}
