{
 "cells": [
  {
   "cell_type": "code",
   "execution_count": 3,
   "id": "0d968c48-17bd-4abc-9dec-889b13633d62",
   "metadata": {},
   "outputs": [],
   "source": [
    "# we use when training data is small for text classifications better when number of features are less"
   ]
  },
  {
   "cell_type": "code",
   "execution_count": 4,
   "id": "5f9da881-6525-49ee-84b8-0b602747b1eb",
   "metadata": {},
   "outputs": [],
   "source": [
    "# doesn't overfit because complex behaviour can't be represented by this, used when data changes rapidly, when the features are independant"
   ]
  },
  {
   "cell_type": "code",
   "execution_count": null,
   "id": "49d9ea1f-cc12-4c12-8268-73a55728fafb",
   "metadata": {},
   "outputs": [],
   "source": []
  }
 ],
 "metadata": {
  "kernelspec": {
   "display_name": "Python 3 (ipykernel)",
   "language": "python",
   "name": "python3"
  },
  "language_info": {
   "codemirror_mode": {
    "name": "ipython",
    "version": 3
   },
   "file_extension": ".py",
   "mimetype": "text/x-python",
   "name": "python",
   "nbconvert_exporter": "python",
   "pygments_lexer": "ipython3",
   "version": "3.10.12"
  }
 },
 "nbformat": 4,
 "nbformat_minor": 5
}
