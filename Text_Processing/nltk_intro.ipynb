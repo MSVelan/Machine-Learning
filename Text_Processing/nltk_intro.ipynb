{
 "cells": [
  {
   "cell_type": "code",
   "execution_count": 11,
   "id": "817ee034-5420-4b49-b544-74ccbfdfde05",
   "metadata": {},
   "outputs": [],
   "source": [
    "import nltk"
   ]
  },
  {
   "cell_type": "code",
   "execution_count": 12,
   "id": "5101da47-160d-48b9-a7ca-33830f7b8e30",
   "metadata": {},
   "outputs": [],
   "source": [
    "from nltk.corpus import brown"
   ]
  },
  {
   "cell_type": "code",
   "execution_count": 14,
   "id": "5c3f59cd-0383-4c46-af43-727911c5b02b",
   "metadata": {},
   "outputs": [
    {
     "data": {
      "text/plain": [
       "['adventure',\n",
       " 'belles_lettres',\n",
       " 'editorial',\n",
       " 'fiction',\n",
       " 'government',\n",
       " 'hobbies',\n",
       " 'humor',\n",
       " 'learned',\n",
       " 'lore',\n",
       " 'mystery',\n",
       " 'news',\n",
       " 'religion',\n",
       " 'reviews',\n",
       " 'romance',\n",
       " 'science_fiction']"
      ]
     },
     "execution_count": 14,
     "metadata": {},
     "output_type": "execute_result"
    }
   ],
   "source": [
    "brown.categories()"
   ]
  },
  {
   "cell_type": "code",
   "execution_count": 15,
   "id": "0e016f14-8cd5-41ff-adab-d2fefc0c0763",
   "metadata": {},
   "outputs": [
    {
     "data": {
      "text/plain": [
       "['The', 'Fulton', 'County', 'Grand', 'Jury', 'said', ...]"
      ]
     },
     "execution_count": 15,
     "metadata": {},
     "output_type": "execute_result"
    }
   ],
   "source": [
    "brown.words()"
   ]
  },
  {
   "cell_type": "code",
   "execution_count": 58,
   "id": "1aebc531-11ac-4801-91ec-6ac4291e4445",
   "metadata": {},
   "outputs": [],
   "source": [
    "data = brown.sents(categories=[\"adventure\"])"
   ]
  },
  {
   "cell_type": "code",
   "execution_count": 59,
   "id": "22ed7ec0-44c6-446a-a348-49bf3c00c3e1",
   "metadata": {},
   "outputs": [
    {
     "data": {
      "text/plain": [
       "4637"
      ]
     },
     "execution_count": 59,
     "metadata": {},
     "output_type": "execute_result"
    }
   ],
   "source": [
    "len(data)"
   ]
  },
  {
   "cell_type": "code",
   "execution_count": 69,
   "id": "98defe56-c964-44ad-ab34-0c12577f25a5",
   "metadata": {},
   "outputs": [
    {
     "data": {
      "text/plain": [
       "'He found that if he was tired enough at night , he went to sleep simply because he was too exhausted to stay awake .'"
      ]
     },
     "execution_count": 69,
     "metadata": {},
     "output_type": "execute_result"
    }
   ],
   "source": [
    "\" \".join(data[9])"
   ]
  },
  {
   "cell_type": "markdown",
   "id": "ebf75311-fbd9-4e1c-92ef-f2c00cbf17b3",
   "metadata": {},
   "source": [
    "## Tokenization"
   ]
  },
  {
   "cell_type": "code",
   "execution_count": 22,
   "id": "3e2cb719-a105-4bfa-a8b2-6c8738f4a971",
   "metadata": {},
   "outputs": [],
   "source": [
    "from nltk.tokenize import sent_tokenize, word_tokenize"
   ]
  },
  {
   "cell_type": "code",
   "execution_count": 23,
   "id": "d2d39156-d573-4fe4-a741-69502ffa612d",
   "metadata": {},
   "outputs": [],
   "source": [
    "document = ''' It was a very good movie. The cast was amazing and I liked the story.\n",
    "I went to the movie hall to see it.\n",
    "'''"
   ]
  },
  {
   "cell_type": "code",
   "execution_count": 24,
   "id": "160ff01a-29b9-4c22-ba31-a4fea1fb5090",
   "metadata": {},
   "outputs": [],
   "source": [
    "sentence = \"Code for cause is too OP\""
   ]
  },
  {
   "cell_type": "code",
   "execution_count": 27,
   "id": "f9181a71-183b-4aad-a1c3-9074c918836d",
   "metadata": {},
   "outputs": [
    {
     "name": "stdout",
     "output_type": "stream",
     "text": [
      "[' It was a very good movie.', 'The cast was amazing and I liked the story.', 'I went to the movie hall to see it.']\n"
     ]
    }
   ],
   "source": [
    "sents = sent_tokenize(document)\n",
    "print(sents)"
   ]
  },
  {
   "cell_type": "code",
   "execution_count": 28,
   "id": "0c44af13-bcb1-415e-8099-496c994ded02",
   "metadata": {},
   "outputs": [
    {
     "name": "stdout",
     "output_type": "stream",
     "text": [
      "['Code', 'for', 'cause', 'is', 'too', 'OP']\n"
     ]
    }
   ],
   "source": [
    "words = word_tokenize(sentence)\n",
    "print(words)"
   ]
  },
  {
   "cell_type": "code",
   "execution_count": 29,
   "id": "d29e4fdc-cb9b-43cb-82b1-00837d218d0e",
   "metadata": {},
   "outputs": [],
   "source": [
    "# will also breakdown special characters like @"
   ]
  },
  {
   "cell_type": "markdown",
   "id": "96887dbb-b458-4d23-81de-56ea1c42104a",
   "metadata": {},
   "source": [
    "## Stopword removal"
   ]
  },
  {
   "cell_type": "code",
   "execution_count": 31,
   "id": "0f7c6c5b-8d56-4047-b5e5-f58fc1e5130e",
   "metadata": {},
   "outputs": [],
   "source": [
    "from nltk.corpus import stopwords"
   ]
  },
  {
   "cell_type": "code",
   "execution_count": 34,
   "id": "0654bc75-e17d-4f6d-8846-82edf2d5b868",
   "metadata": {},
   "outputs": [
    {
     "name": "stdout",
     "output_type": "stream",
     "text": [
      "{'of', 'should', \"doesn't\", 'own', 'ourselves', \"hadn't\", 'again', 'doesn', 't', 'haven', \"you're\", 'be', 'and', 'through', 'while', 'once', 'more', 'couldn', 'until', 'up', 'for', 'between', \"isn't\", 'were', 'themselves', 'been', 'has', 'then', 'hasn', \"you've\", 'just', 'here', 'very', 'hadn', 'can', 'because', \"hasn't\", 'than', 'below', 'how', 'mustn', 'yourself', 'y', 'now', \"needn't\", 'isn', 'our', 'being', 'after', 'or', 'with', 'yours', 'nor', 've', 'did', 'theirs', 'some', 'won', 'yourselves', 'you', \"haven't\", 'hers', 'out', 'himself', 'whom', 'wouldn', \"she's\", 'any', 'ain', \"aren't\", 'down', 'i', \"mightn't\", \"weren't\", \"shouldn't\", 'doing', \"don't\", 'mightn', \"wasn't\", \"it's\", 'd', \"shan't\", 'against', \"mustn't\", 'in', 'only', 'we', 'he', 'ours', \"you'd\", 'does', 'weren', 'a', 'having', 'if', 'them', 'at', 'the', \"won't\", 'why', 'from', 'to', 'she', 'itself', \"should've\", 'they', 'his', 'further', 're', 'shan', 'under', 'that', 'ma', 'where', 'herself', 'its', 'll', 'do', 'as', 'on', 'him', \"that'll\", 'was', 'all', 'other', 'shouldn', 'off', 'myself', 'too', 'aren', 'your', 'over', 'most', 'few', 'such', 'm', 'so', 'o', 'wasn', \"didn't\", 'don', 'each', 'there', 'am', 'me', 'which', 'what', 'will', 'is', 'about', 'these', 'when', \"you'll\", 'both', \"couldn't\", 'needn', 'her', 'before', 'but', 'are', 'have', 'this', 'no', 'who', 'had', 'an', 'into', 'their', 'those', 'during', 'not', 'didn', \"wouldn't\", 'my', 'above', 'by', 's', 'same', 'it'}\n"
     ]
    }
   ],
   "source": [
    "sw = set(stopwords.words('english'))\n",
    "print(sw)"
   ]
  },
  {
   "cell_type": "code",
   "execution_count": 36,
   "id": "e350ad2e-703e-45f5-82e0-193443a0facb",
   "metadata": {},
   "outputs": [
    {
     "data": {
      "text/plain": [
       "['I', 'am', 'not', 'a', 'very', 'good', 'cricket', 'player']"
      ]
     },
     "execution_count": 36,
     "metadata": {},
     "output_type": "execute_result"
    }
   ],
   "source": [
    "text = \"I am not a very good cricket player\".split()\n",
    "text"
   ]
  },
  {
   "cell_type": "code",
   "execution_count": 37,
   "id": "25314109-d877-4b46-9cc7-5fd88f5d83e6",
   "metadata": {},
   "outputs": [],
   "source": [
    "def removestopwords(text,stopwords):\n",
    "    return [w for w in text if w not in stopwords]"
   ]
  },
  {
   "cell_type": "code",
   "execution_count": 38,
   "id": "f9a5e841-13c8-43b5-b632-ceeafc515733",
   "metadata": {},
   "outputs": [
    {
     "data": {
      "text/plain": [
       "['I', 'good', 'cricket', 'player']"
      ]
     },
     "execution_count": 38,
     "metadata": {},
     "output_type": "execute_result"
    }
   ],
   "source": [
    "useful = removestopwords(text,sw)\n",
    "useful"
   ]
  },
  {
   "cell_type": "code",
   "execution_count": 39,
   "id": "0d30cc60-76ad-4057-be38-9d8c0fbbdd3f",
   "metadata": {},
   "outputs": [],
   "source": [
    "from nltk.tokenize import RegexpTokenizer"
   ]
  },
  {
   "cell_type": "code",
   "execution_count": 43,
   "id": "67649444-4445-411d-b444-8126c4e690c1",
   "metadata": {},
   "outputs": [],
   "source": [
    "sentence = \"Code for cause is too OP msvn@gmail.com\""
   ]
  },
  {
   "cell_type": "code",
   "execution_count": 44,
   "id": "738e2340-79d7-478c-b8bc-7769cbf868ea",
   "metadata": {},
   "outputs": [
    {
     "name": "stdout",
     "output_type": "stream",
     "text": [
      "['Code', 'for', 'cause', 'is', 'too', 'OP', 'msvn@gmail.com']\n"
     ]
    }
   ],
   "source": [
    "tokenizer = RegexpTokenizer('[a-zA-Z@.]+')\n",
    "useful = tokenizer.tokenize(sentence)\n",
    "print(useful)"
   ]
  },
  {
   "cell_type": "markdown",
   "id": "c0ce4e88-2e6e-469a-ab39-077170e46286",
   "metadata": {},
   "source": [
    "## Stemming"
   ]
  },
  {
   "cell_type": "code",
   "execution_count": 45,
   "id": "060b76bd-f542-4e52-9b12-8e1b70bc9399",
   "metadata": {},
   "outputs": [],
   "source": [
    "# nltk provides us Porter, Snowball, Lancaster stemmers"
   ]
  },
  {
   "cell_type": "code",
   "execution_count": 46,
   "id": "2d089d60-4b65-4a84-b862-36ff065526d0",
   "metadata": {},
   "outputs": [],
   "source": [
    "from nltk.stem import SnowballStemmer, PorterStemmer, LancasterStemmer"
   ]
  },
  {
   "cell_type": "code",
   "execution_count": 47,
   "id": "5f975784-b9c3-402b-90b6-576b8b7715df",
   "metadata": {},
   "outputs": [],
   "source": [
    "ps = PorterStemmer()"
   ]
  },
  {
   "cell_type": "code",
   "execution_count": 48,
   "id": "32fb74ea-96aa-43b1-8712-9f1317bf18e7",
   "metadata": {},
   "outputs": [
    {
     "data": {
      "text/plain": [
       "'run'"
      ]
     },
     "execution_count": 48,
     "metadata": {},
     "output_type": "execute_result"
    }
   ],
   "source": [
    "ps.stem(\"Running\")"
   ]
  },
  {
   "cell_type": "code",
   "execution_count": 49,
   "id": "cf8010c3-0679-46d2-8ae8-252cce3a8de0",
   "metadata": {},
   "outputs": [],
   "source": [
    "# SnowballStemmer is used for multilingual stemming"
   ]
  },
  {
   "cell_type": "code",
   "execution_count": 70,
   "id": "371c425c-7d59-416d-8b55-fcd66ba1ae98",
   "metadata": {},
   "outputs": [],
   "source": [
    "corpus = [\n",
    "    'Dan Morgan told himself he would forget Ann Turner .',\n",
    "    'Sometimes he woke up in the middle of the night thinking of Ann , and then could not get back to sleep .',\n",
    "    'His plans and dreams had revolved around her so much and for so long that now he felt as if he had nothing .',\n",
    "    'He found that if he was tired enough at night , he went to sleep simply because he was too exhausted to stay awake .'\n",
    "]"
   ]
  },
  {
   "cell_type": "code",
   "execution_count": 71,
   "id": "dfef5c90-4b92-45e6-943c-269956769a34",
   "metadata": {},
   "outputs": [],
   "source": [
    "from sklearn.feature_extraction.text import CountVectorizer"
   ]
  },
  {
   "cell_type": "code",
   "execution_count": 72,
   "id": "8cd87029-02a9-4652-aef6-4d9492144441",
   "metadata": {},
   "outputs": [],
   "source": [
    "cv = CountVectorizer()"
   ]
  },
  {
   "cell_type": "code",
   "execution_count": 73,
   "id": "fd8c6aa7-fab6-4902-be59-8e8fd5d72a5d",
   "metadata": {},
   "outputs": [],
   "source": [
    "vc = cv.fit_transform(corpus)"
   ]
  },
  {
   "cell_type": "code",
   "execution_count": 80,
   "id": "f713cd88-8100-4e45-bb77-4655423470f9",
   "metadata": {},
   "outputs": [
    {
     "name": "stdout",
     "output_type": "stream",
     "text": [
      "[2 0 1 1 0 0 0 0 0 0 1 0 0 1 1 0 0 0 2 2 1 0 1 1 0 1 0 0 1 0 0 1 1 0 1 1 0\n",
      " 0 2 0 0 1 0 0 0 0 0 0 0 0 0 0 0 0 0]\n",
      "{'dan': 9, 'morgan': 27, 'told': 47, 'himself': 21, 'he': 19, 'would': 54, 'forget': 15, 'ann': 1, 'turner': 49, 'sometimes': 39, 'woke': 53, 'up': 50, 'in': 24, 'the': 42, 'middle': 26, 'of': 33, 'night': 29, 'thinking': 44, 'and': 0, 'then': 43, 'could': 8, 'not': 30, 'get': 17, 'back': 6, 'to': 46, 'sleep': 37, 'his': 22, 'plans': 34, 'dreams': 10, 'had': 18, 'revolved': 35, 'around': 2, 'her': 20, 'so': 38, 'much': 28, 'for': 14, 'long': 25, 'that': 41, 'now': 32, 'felt': 13, 'as': 3, 'if': 23, 'nothing': 31, 'found': 16, 'was': 51, 'tired': 45, 'enough': 11, 'at': 4, 'went': 52, 'simply': 36, 'because': 7, 'too': 48, 'exhausted': 12, 'stay': 40, 'awake': 5}\n"
     ]
    }
   ],
   "source": [
    "vc = vc.toarray()\n",
    "print(vc[2])\n",
    "print(cv.vocabulary_)"
   ]
  },
  {
   "cell_type": "code",
   "execution_count": 82,
   "id": "9f3dbb80-b0fb-47e4-837e-cab428564641",
   "metadata": {},
   "outputs": [
    {
     "name": "stdout",
     "output_type": "stream",
     "text": [
      "55\n"
     ]
    }
   ],
   "source": [
    "print(len(cv.vocabulary_))"
   ]
  },
  {
   "cell_type": "code",
   "execution_count": 85,
   "id": "eea550cc-e4c1-4c07-ab75-ac2be4ce65f2",
   "metadata": {},
   "outputs": [
    {
     "name": "stdout",
     "output_type": "stream",
     "text": [
      "55\n"
     ]
    }
   ],
   "source": [
    "numbers = vc[2]\n",
    "print(len(numbers))"
   ]
  },
  {
   "cell_type": "code",
   "execution_count": 86,
   "id": "095293bf-ec6f-4537-bb1c-3fa1acc3f4ad",
   "metadata": {},
   "outputs": [],
   "source": [
    "def myTokenizer(document):\n",
    "    words = tokenizer.tokenize(document.lower())\n",
    "    words = removestopwords(words,sw)\n",
    "    return words"
   ]
  },
  {
   "cell_type": "code",
   "execution_count": 87,
   "id": "7b58036d-3bc5-4f28-9b6e-b4867515bf8b",
   "metadata": {},
   "outputs": [
    {
     "data": {
      "text/plain": [
       "['random', 'text']"
      ]
     },
     "execution_count": 87,
     "metadata": {},
     "output_type": "execute_result"
    }
   ],
   "source": [
    "myTokenizer('this is a random text')"
   ]
  },
  {
   "cell_type": "code",
   "execution_count": 89,
   "id": "5e6adae4-ff9e-4238-877f-3817143687e5",
   "metadata": {},
   "outputs": [],
   "source": [
    "cv = CountVectorizer(tokenizer=myTokenizer)"
   ]
  },
  {
   "cell_type": "code",
   "execution_count": 90,
   "id": "b18387de-b2de-42d2-b1d5-2c65fc64bbf9",
   "metadata": {},
   "outputs": [
    {
     "name": "stderr",
     "output_type": "stream",
     "text": [
      "/home/msvelan/Desktop/Machine Learning/venv/lib/python3.10/site-packages/sklearn/feature_extraction/text.py:525: UserWarning: The parameter 'token_pattern' will not be used since 'tokenizer' is not None'\n",
      "  warnings.warn(\n"
     ]
    }
   ],
   "source": [
    "vc = cv.fit_transform(corpus).toarray()"
   ]
  },
  {
   "cell_type": "code",
   "execution_count": 91,
   "id": "a38b2db8-f758-45e0-bc15-33cc702cf4f9",
   "metadata": {},
   "outputs": [
    {
     "name": "stdout",
     "output_type": "stream",
     "text": [
      "[[1 1 0 0 0 0 1 0 0 0 0 1 0 0 0 0 1 0 0 0 0 0 0 0 0 0 0 0 1 1 0 0 1]\n",
      " [1 1 0 0 1 1 0 0 0 0 0 0 0 1 0 1 0 0 1 0 0 0 0 1 1 0 1 0 0 0 0 1 0]\n",
      " [1 0 1 0 0 0 0 1 0 0 1 0 0 0 1 0 0 1 0 1 1 1 0 0 0 0 0 0 0 0 0 0 0]\n",
      " [1 0 0 1 0 0 0 0 1 1 0 0 1 0 0 0 0 0 1 0 0 0 1 1 0 1 0 1 0 0 1 0 0]]\n"
     ]
    }
   ],
   "source": [
    "print(vc)"
   ]
  },
  {
   "cell_type": "code",
   "execution_count": 92,
   "id": "fc862777-7a12-499d-b5a0-f9621870b46f",
   "metadata": {},
   "outputs": [
    {
     "data": {
      "text/plain": [
       "33"
      ]
     },
     "execution_count": 92,
     "metadata": {},
     "output_type": "execute_result"
    }
   ],
   "source": [
    "len(vc[0])"
   ]
  },
  {
   "cell_type": "code",
   "execution_count": 93,
   "id": "688e2d58-b3ef-48ec-81bd-b3d59f012d1d",
   "metadata": {},
   "outputs": [
    {
     "data": {
      "text/plain": [
       "{'dan': 6,\n",
       " 'morgan': 16,\n",
       " 'told': 28,\n",
       " 'would': 32,\n",
       " 'forget': 11,\n",
       " 'ann': 1,\n",
       " 'turner': 29,\n",
       " '.': 0,\n",
       " 'sometimes': 24,\n",
       " 'woke': 31,\n",
       " 'middle': 15,\n",
       " 'night': 18,\n",
       " 'thinking': 26,\n",
       " 'could': 5,\n",
       " 'get': 13,\n",
       " 'back': 4,\n",
       " 'sleep': 23,\n",
       " 'plans': 20,\n",
       " 'dreams': 7,\n",
       " 'revolved': 21,\n",
       " 'around': 2,\n",
       " 'much': 17,\n",
       " 'long': 14,\n",
       " 'felt': 10,\n",
       " 'nothing': 19,\n",
       " 'found': 12,\n",
       " 'tired': 27,\n",
       " 'enough': 8,\n",
       " 'went': 30,\n",
       " 'simply': 22,\n",
       " 'exhausted': 9,\n",
       " 'stay': 25,\n",
       " 'awake': 3}"
      ]
     },
     "execution_count": 93,
     "metadata": {},
     "output_type": "execute_result"
    }
   ],
   "source": [
    "cv.vocabulary_"
   ]
  },
  {
   "cell_type": "code",
   "execution_count": 97,
   "id": "02cb95c7-72ee-4a31-b698-88113252b0c6",
   "metadata": {},
   "outputs": [
    {
     "data": {
      "text/plain": [
       "33"
      ]
     },
     "execution_count": 97,
     "metadata": {},
     "output_type": "execute_result"
    }
   ],
   "source": [
    "len(cv.transform([sentence]).toarray()[0]) # Here, sentence is the test data.. we use fit_transform for training only."
   ]
  },
  {
   "cell_type": "code",
   "execution_count": 98,
   "id": "7a6ee2bd-4e44-4a0b-9104-b29a85c7ff02",
   "metadata": {},
   "outputs": [],
   "source": [
    "# TF-IDF normalization explore: used for ignoring words that repeat often in different document"
   ]
  },
  {
   "cell_type": "code",
   "execution_count": 99,
   "id": "6d6adc17-be79-457c-8b4e-b1c86f76db22",
   "metadata": {},
   "outputs": [],
   "source": [
    "# explore unigram, bigram, triagram, n-grams"
   ]
  },
  {
   "cell_type": "code",
   "execution_count": null,
   "id": "fa4d1b7c-1760-40f9-823e-1a28edb9f027",
   "metadata": {},
   "outputs": [],
   "source": []
  }
 ],
 "metadata": {
  "kernelspec": {
   "display_name": "Python 3 (ipykernel)",
   "language": "python",
   "name": "python3"
  },
  "language_info": {
   "codemirror_mode": {
    "name": "ipython",
    "version": 3
   },
   "file_extension": ".py",
   "mimetype": "text/x-python",
   "name": "python",
   "nbconvert_exporter": "python",
   "pygments_lexer": "ipython3",
   "version": "3.10.12"
  }
 },
 "nbformat": 4,
 "nbformat_minor": 5
}
