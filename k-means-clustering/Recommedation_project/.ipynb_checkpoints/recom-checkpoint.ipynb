{
 "cells": [
  {
   "cell_type": "code",
   "execution_count": 1,
   "id": "25e39df6-72bf-4059-aed4-2e727efd358d",
   "metadata": {},
   "outputs": [],
   "source": [
    "import numpy as np\n",
    "import pandas as pd\n",
    "import matplotlib.pyplot as plt\n",
    "from sklearn.datasets import make_blobs\n",
    "import os"
   ]
  },
  {
   "cell_type": "code",
   "execution_count": 6,
   "id": "6832d822-a2ae-4f21-9162-a8b4fabd4388",
   "metadata": {},
   "outputs": [],
   "source": [
    "curdir = os.getcwd()\n",
    "rating_file_path = os.path.join(curdir,\"..\",\"..\",\"Datasets\",\"Recommendation_system\",\"rating.csv\")\n",
    "anime_file_path = os.path.join(curdir,\"..\",\"..\",\"Datasets\",\"Recommendation_system\",\"anime.csv\")"
   ]
  },
  {
   "cell_type": "code",
   "execution_count": 13,
   "id": "e244dc17-96ed-4ef1-bcaf-1671d236276f",
   "metadata": {},
   "outputs": [],
   "source": [
    "rating = pd.read_csv(rating_file_path)\n",
    "# for collaborative filtering"
   ]
  },
  {
   "cell_type": "code",
   "execution_count": 8,
   "id": "a023b997-0b9e-4d87-8444-857627e18251",
   "metadata": {},
   "outputs": [
    {
     "data": {
      "text/html": [
       "<div>\n",
       "<style scoped>\n",
       "    .dataframe tbody tr th:only-of-type {\n",
       "        vertical-align: middle;\n",
       "    }\n",
       "\n",
       "    .dataframe tbody tr th {\n",
       "        vertical-align: top;\n",
       "    }\n",
       "\n",
       "    .dataframe thead th {\n",
       "        text-align: right;\n",
       "    }\n",
       "</style>\n",
       "<table border=\"1\" class=\"dataframe\">\n",
       "  <thead>\n",
       "    <tr style=\"text-align: right;\">\n",
       "      <th></th>\n",
       "      <th>Unnamed: 0</th>\n",
       "      <th>user_id</th>\n",
       "      <th>anime_id</th>\n",
       "      <th>rating</th>\n",
       "    </tr>\n",
       "  </thead>\n",
       "  <tbody>\n",
       "    <tr>\n",
       "      <th>0</th>\n",
       "      <td>2443027</td>\n",
       "      <td>23306</td>\n",
       "      <td>3503</td>\n",
       "      <td>7</td>\n",
       "    </tr>\n",
       "    <tr>\n",
       "      <th>1</th>\n",
       "      <td>4751250</td>\n",
       "      <td>45366</td>\n",
       "      <td>1190</td>\n",
       "      <td>-1</td>\n",
       "    </tr>\n",
       "    <tr>\n",
       "      <th>2</th>\n",
       "      <td>7694962</td>\n",
       "      <td>72305</td>\n",
       "      <td>5150</td>\n",
       "      <td>8</td>\n",
       "    </tr>\n",
       "    <tr>\n",
       "      <th>3</th>\n",
       "      <td>7066179</td>\n",
       "      <td>65975</td>\n",
       "      <td>6045</td>\n",
       "      <td>10</td>\n",
       "    </tr>\n",
       "    <tr>\n",
       "      <th>4</th>\n",
       "      <td>7198178</td>\n",
       "      <td>67151</td>\n",
       "      <td>3702</td>\n",
       "      <td>9</td>\n",
       "    </tr>\n",
       "  </tbody>\n",
       "</table>\n",
       "</div>"
      ],
      "text/plain": [
       "   Unnamed: 0  user_id  anime_id  rating\n",
       "0     2443027    23306      3503       7\n",
       "1     4751250    45366      1190      -1\n",
       "2     7694962    72305      5150       8\n",
       "3     7066179    65975      6045      10\n",
       "4     7198178    67151      3702       9"
      ]
     },
     "execution_count": 8,
     "metadata": {},
     "output_type": "execute_result"
    }
   ],
   "source": [
    "rating.head()"
   ]
  },
  {
   "cell_type": "code",
   "execution_count": 12,
   "id": "5f625e73-1527-4ff6-9076-47f89057b507",
   "metadata": {},
   "outputs": [],
   "source": [
    "anime = pd.read_csv(anime_file_path)\n",
    "# for content based filtering"
   ]
  },
  {
   "cell_type": "code",
   "execution_count": 11,
   "id": "97226e69-0431-4859-9d79-f700aa156fa7",
   "metadata": {},
   "outputs": [
    {
     "data": {
      "text/html": [
       "<div>\n",
       "<style scoped>\n",
       "    .dataframe tbody tr th:only-of-type {\n",
       "        vertical-align: middle;\n",
       "    }\n",
       "\n",
       "    .dataframe tbody tr th {\n",
       "        vertical-align: top;\n",
       "    }\n",
       "\n",
       "    .dataframe thead th {\n",
       "        text-align: right;\n",
       "    }\n",
       "</style>\n",
       "<table border=\"1\" class=\"dataframe\">\n",
       "  <thead>\n",
       "    <tr style=\"text-align: right;\">\n",
       "      <th></th>\n",
       "      <th>anime_id</th>\n",
       "      <th>name</th>\n",
       "      <th>genre</th>\n",
       "      <th>type</th>\n",
       "      <th>episodes</th>\n",
       "      <th>rating</th>\n",
       "      <th>members</th>\n",
       "    </tr>\n",
       "  </thead>\n",
       "  <tbody>\n",
       "    <tr>\n",
       "      <th>0</th>\n",
       "      <td>32281</td>\n",
       "      <td>Kimi no Na wa.</td>\n",
       "      <td>Drama, Romance, School, Supernatural</td>\n",
       "      <td>Movie</td>\n",
       "      <td>1</td>\n",
       "      <td>9.37</td>\n",
       "      <td>200630</td>\n",
       "    </tr>\n",
       "    <tr>\n",
       "      <th>1</th>\n",
       "      <td>5114</td>\n",
       "      <td>Fullmetal Alchemist: Brotherhood</td>\n",
       "      <td>Action, Adventure, Drama, Fantasy, Magic, Mili...</td>\n",
       "      <td>TV</td>\n",
       "      <td>64</td>\n",
       "      <td>9.26</td>\n",
       "      <td>793665</td>\n",
       "    </tr>\n",
       "    <tr>\n",
       "      <th>2</th>\n",
       "      <td>28977</td>\n",
       "      <td>Gintama°</td>\n",
       "      <td>Action, Comedy, Historical, Parody, Samurai, S...</td>\n",
       "      <td>TV</td>\n",
       "      <td>51</td>\n",
       "      <td>9.25</td>\n",
       "      <td>114262</td>\n",
       "    </tr>\n",
       "    <tr>\n",
       "      <th>3</th>\n",
       "      <td>9253</td>\n",
       "      <td>Steins;Gate</td>\n",
       "      <td>Sci-Fi, Thriller</td>\n",
       "      <td>TV</td>\n",
       "      <td>24</td>\n",
       "      <td>9.17</td>\n",
       "      <td>673572</td>\n",
       "    </tr>\n",
       "    <tr>\n",
       "      <th>4</th>\n",
       "      <td>9969</td>\n",
       "      <td>Gintama&amp;#039;</td>\n",
       "      <td>Action, Comedy, Historical, Parody, Samurai, S...</td>\n",
       "      <td>TV</td>\n",
       "      <td>51</td>\n",
       "      <td>9.16</td>\n",
       "      <td>151266</td>\n",
       "    </tr>\n",
       "  </tbody>\n",
       "</table>\n",
       "</div>"
      ],
      "text/plain": [
       "   anime_id                              name  \\\n",
       "0     32281                    Kimi no Na wa.   \n",
       "1      5114  Fullmetal Alchemist: Brotherhood   \n",
       "2     28977                          Gintama°   \n",
       "3      9253                       Steins;Gate   \n",
       "4      9969                     Gintama&#039;   \n",
       "\n",
       "                                               genre   type episodes  rating  \\\n",
       "0               Drama, Romance, School, Supernatural  Movie        1    9.37   \n",
       "1  Action, Adventure, Drama, Fantasy, Magic, Mili...     TV       64    9.26   \n",
       "2  Action, Comedy, Historical, Parody, Samurai, S...     TV       51    9.25   \n",
       "3                                   Sci-Fi, Thriller     TV       24    9.17   \n",
       "4  Action, Comedy, Historical, Parody, Samurai, S...     TV       51    9.16   \n",
       "\n",
       "   members  \n",
       "0   200630  \n",
       "1   793665  \n",
       "2   114262  \n",
       "3   673572  \n",
       "4   151266  "
      ]
     },
     "execution_count": 11,
     "metadata": {},
     "output_type": "execute_result"
    }
   ],
   "source": [
    "anime.head()"
   ]
  },
  {
   "cell_type": "code",
   "execution_count": 27,
   "id": "30b10510-37cb-49fe-841b-d98e545a0e4b",
   "metadata": {},
   "outputs": [],
   "source": [
    "# def filtering(row):\n",
    "#     if \"Drama\" in row[\"genre\"]:\n",
    "#         return true\n",
    "#     return false"
   ]
  },
  {
   "cell_type": "code",
   "execution_count": 28,
   "id": "ee44d420-c3a0-475d-ad12-9e684c78a07d",
   "metadata": {},
   "outputs": [],
   "source": [
    "# anime.apply(filtering)"
   ]
  },
  {
   "cell_type": "code",
   "execution_count": 29,
   "id": "9596af37-b110-4d0c-8278-29f9f2db851f",
   "metadata": {},
   "outputs": [],
   "source": [
    "items = np.array(anime.genre)"
   ]
  },
  {
   "cell_type": "code",
   "execution_count": 34,
   "id": "505c72d9-6054-4c8c-a522-0f9affd3b6f6",
   "metadata": {},
   "outputs": [],
   "source": [
    "filter = [(\"Drama\" in str(item)) for item in items]"
   ]
  },
  {
   "cell_type": "code",
   "execution_count": 36,
   "id": "791d1243-06b4-43f5-a6e9-b3deb7175c88",
   "metadata": {},
   "outputs": [],
   "source": [
    "X = anime.loc[filter]"
   ]
  },
  {
   "cell_type": "code",
   "execution_count": 38,
   "id": "3b15a7d2-e51d-47f9-b7ab-ecc3f34f165c",
   "metadata": {},
   "outputs": [],
   "source": [
    "X_mod = X[['episodes', 'rating', 'members']]"
   ]
  },
  {
   "cell_type": "code",
   "execution_count": 41,
   "id": "3e634111-9eeb-4ac8-ac02-4c1d9da071e7",
   "metadata": {},
   "outputs": [
    {
     "data": {
      "text/html": [
       "<div>\n",
       "<style scoped>\n",
       "    .dataframe tbody tr th:only-of-type {\n",
       "        vertical-align: middle;\n",
       "    }\n",
       "\n",
       "    .dataframe tbody tr th {\n",
       "        vertical-align: top;\n",
       "    }\n",
       "\n",
       "    .dataframe thead th {\n",
       "        text-align: right;\n",
       "    }\n",
       "</style>\n",
       "<table border=\"1\" class=\"dataframe\">\n",
       "  <thead>\n",
       "    <tr style=\"text-align: right;\">\n",
       "      <th></th>\n",
       "      <th>rating</th>\n",
       "      <th>members</th>\n",
       "    </tr>\n",
       "  </thead>\n",
       "  <tbody>\n",
       "    <tr>\n",
       "      <th>count</th>\n",
       "      <td>1977.000000</td>\n",
       "      <td>2016.000000</td>\n",
       "    </tr>\n",
       "    <tr>\n",
       "      <th>mean</th>\n",
       "      <td>6.977218</td>\n",
       "      <td>28900.097718</td>\n",
       "    </tr>\n",
       "    <tr>\n",
       "      <th>std</th>\n",
       "      <td>0.881088</td>\n",
       "      <td>71701.646529</td>\n",
       "    </tr>\n",
       "    <tr>\n",
       "      <th>min</th>\n",
       "      <td>3.330000</td>\n",
       "      <td>20.000000</td>\n",
       "    </tr>\n",
       "    <tr>\n",
       "      <th>25%</th>\n",
       "      <td>6.420000</td>\n",
       "      <td>443.750000</td>\n",
       "    </tr>\n",
       "    <tr>\n",
       "      <th>50%</th>\n",
       "      <td>7.020000</td>\n",
       "      <td>4079.000000</td>\n",
       "    </tr>\n",
       "    <tr>\n",
       "      <th>75%</th>\n",
       "      <td>7.560000</td>\n",
       "      <td>22722.500000</td>\n",
       "    </tr>\n",
       "    <tr>\n",
       "      <th>max</th>\n",
       "      <td>9.370000</td>\n",
       "      <td>896229.000000</td>\n",
       "    </tr>\n",
       "  </tbody>\n",
       "</table>\n",
       "</div>"
      ],
      "text/plain": [
       "            rating        members\n",
       "count  1977.000000    2016.000000\n",
       "mean      6.977218   28900.097718\n",
       "std       0.881088   71701.646529\n",
       "min       3.330000      20.000000\n",
       "25%       6.420000     443.750000\n",
       "50%       7.020000    4079.000000\n",
       "75%       7.560000   22722.500000\n",
       "max       9.370000  896229.000000"
      ]
     },
     "execution_count": 41,
     "metadata": {},
     "output_type": "execute_result"
    }
   ],
   "source": [
    "X_mod.describe()"
   ]
  },
  {
   "cell_type": "code",
   "execution_count": 42,
   "id": "803a4af9-78a8-4772-99b2-9f18887d2d4c",
   "metadata": {},
   "outputs": [],
   "source": [
    "import seaborn as sns"
   ]
  },
  {
   "cell_type": "code",
   "execution_count": 45,
   "id": "7e4734e1-8ead-4f98-bbd1-99ba51022972",
   "metadata": {},
   "outputs": [
    {
     "data": {
      "text/plain": [
       "<Axes: xlabel='rating', ylabel='members'>"
      ]
     },
     "execution_count": 45,
     "metadata": {},
     "output_type": "execute_result"
    },
    {
     "data": {
      "image/png": "[encoded data removed]",
      "text/plain": [
       "<Figure size 640x480 with 1 Axes>"
      ]
     },
     "metadata": {},
     "output_type": "display_data"
    }
   ],
   "source": [
    "sns.scatterplot(x=X_mod.rating,y=X_mod.members)"
   ]
  },
  {
   "cell_type": "code",
   "execution_count": null,
   "id": "d84262ac-c2fa-4d35-920c-21eb9fe58b06",
   "metadata": {},
   "outputs": [],
   "source": []
  }
 ],
 "metadata": {
  "kernelspec": {
   "display_name": "Python 3 (ipykernel)",
   "language": "python",
   "name": "python3"
  },
  "language_info": {
   "codemirror_mode": {
    "name": "ipython",
    "version": 3
   },
   "file_extension": ".py",
   "mimetype": "text/x-python",
   "name": "python",
   "nbconvert_exporter": "python",
   "pygments_lexer": "ipython3",
   "version": "3.10.12"
  }
 },
 "nbformat": 4,
 "nbformat_minor": 5
}
