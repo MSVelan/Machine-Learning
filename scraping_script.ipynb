{
 "cells": [
  {
   "cell_type": "code",
   "execution_count": 1,
   "id": "0f60d587-aaab-456c-9028-5ae5dcb771c2",
   "metadata": {},
   "outputs": [],
   "source": [
    "import requests\n",
    "from bs4 import BeautifulSoup\n",
    "from pprint import pprint"
   ]
  },
  {
   "cell_type": "code",
   "execution_count": 2,
   "id": "3ef0e16e-8957-4ac1-89f1-cbf9dbc669b4",
   "metadata": {},
   "outputs": [],
   "source": [
    "url = \"https://www.goodreads.com/quotes/tag/{}?page={}\""
   ]
  },
  {
   "cell_type": "code",
   "execution_count": 3,
   "id": "cf8863e4-4f61-4987-9614-b08f48e6e4d9",
   "metadata": {},
   "outputs": [],
   "source": [
    "emotions = [\"life\",\"love\"]"
   ]
  },
  {
   "cell_type": "code",
   "execution_count": 4,
   "id": "720f6345-43c5-43c6-9f98-dc8c267fc1e8",
   "metadata": {},
   "outputs": [],
   "source": [
    "def get_quotes(url):\n",
    "    res = requests.get(url)\n",
    "    soup = BeautifulSoup(res.text)\n",
    "    quote_divs = soup.find_all(\"div\",class_=\"quote\")\n",
    "    \n",
    "    quotes = []\n",
    "    \n",
    "    for quote_div in quote_divs:\n",
    "        divs = quote_div.find_all(\"div\",class_=\"quoteText\")\n",
    "        tag_divs = quote_div.find_all(\"div\",class_=\"left\")\n",
    "    \n",
    "        quote_item = {}\n",
    "        \n",
    "        for div in divs:\n",
    "            s = div.text.strip()\n",
    "            split_array = s.split(\"\\n\")\n",
    "            quote = split_array[0]\n",
    "            author = split_array[-1].strip()\n",
    "            quote = quote[1:-1]\n",
    "            quote_item[\"text\"]=quote\n",
    "            quote_item[\"author\"]=author\n",
    "    \n",
    "        for tag_div in tag_divs:\n",
    "            tags = [tag.text for tag in tag_div.find_all(\"a\")]\n",
    "            quote_item[\"tags\"]=tags\n",
    "    \n",
    "        quotes.append(quote_item)\n",
    "        \n",
    "    return quotes\n",
    "        "
   ]
  },
  {
   "cell_type": "code",
   "execution_count": 5,
   "id": "c5578ce8-e9d9-424b-92fc-a925191d56d1",
   "metadata": {},
   "outputs": [
    {
     "name": "stdout",
     "output_type": "stream",
     "text": [
      "Processed  1\n",
      "\n",
      "Processed  2\n",
      "\n",
      "Processed  3\n",
      "\n",
      "Processed  4\n",
      "\n",
      "Processed  5\n",
      "\n"
     ]
    }
   ],
   "source": [
    "total = []\n",
    "for i in range(1,6):\n",
    "    total.extend(get_quotes(url.format(emotions[0],i)))\n",
    "    print(\"Processed \", i, end=\"\\n\\n\")"
   ]
  },
  {
   "cell_type": "code",
   "execution_count": 6,
   "id": "15d84d01-3efb-4316-8e0b-40e5b8ff670f",
   "metadata": {},
   "outputs": [
    {
     "data": {
      "text/plain": [
       "150"
      ]
     },
     "execution_count": 6,
     "metadata": {},
     "output_type": "execute_result"
    }
   ],
   "source": [
    "len(total)"
   ]
  },
  {
   "cell_type": "code",
   "execution_count": 8,
   "id": "5af825c6-1842-4eaf-94ee-c03a45e4f255",
   "metadata": {},
   "outputs": [],
   "source": [
    "import pandas as pd"
   ]
  },
  {
   "cell_type": "code",
   "execution_count": 9,
   "id": "3b7bfd08-2046-48ef-9417-547abe95a7c5",
   "metadata": {},
   "outputs": [],
   "source": [
    "df = pd.DataFrame(total)"
   ]
  },
  {
   "cell_type": "code",
   "execution_count": 10,
   "id": "089b1971-f90d-49e8-a442-1289bdd8fcb8",
   "metadata": {},
   "outputs": [
    {
     "data": {
      "text/html": [
       "<div>\n",
       "<style scoped>\n",
       "    .dataframe tbody tr th:only-of-type {\n",
       "        vertical-align: middle;\n",
       "    }\n",
       "\n",
       "    .dataframe tbody tr th {\n",
       "        vertical-align: top;\n",
       "    }\n",
       "\n",
       "    .dataframe thead th {\n",
       "        text-align: right;\n",
       "    }\n",
       "</style>\n",
       "<table border=\"1\" class=\"dataframe\">\n",
       "  <thead>\n",
       "    <tr style=\"text-align: right;\">\n",
       "      <th></th>\n",
       "      <th>text</th>\n",
       "      <th>author</th>\n",
       "      <th>tags</th>\n",
       "    </tr>\n",
       "  </thead>\n",
       "  <tbody>\n",
       "    <tr>\n",
       "      <th>0</th>\n",
       "      <td>I'm selfish, impatient and a little insecure. ...</td>\n",
       "      <td>Marilyn Monroe</td>\n",
       "      <td>[attributed-no-source, best, life, love, misat...</td>\n",
       "    </tr>\n",
       "    <tr>\n",
       "      <th>1</th>\n",
       "      <td>You've gotta dance like there's nobody watchin...</td>\n",
       "      <td>William W. Purkey</td>\n",
       "      <td>[dance, heaven, hurt, inspirational, life, lov...</td>\n",
       "    </tr>\n",
       "    <tr>\n",
       "      <th>2</th>\n",
       "      <td>You only live once, but if you do it right, on...</td>\n",
       "      <td>Mae West</td>\n",
       "      <td>[humor, life]</td>\n",
       "    </tr>\n",
       "    <tr>\n",
       "      <th>3</th>\n",
       "      <td>In three words I can sum up everything I've le...</td>\n",
       "      <td>Robert Frost</td>\n",
       "      <td>[life]</td>\n",
       "    </tr>\n",
       "    <tr>\n",
       "      <th>4</th>\n",
       "      <td>To live is the rarest thing in the world. Most...</td>\n",
       "      <td>Oscar Wilde</td>\n",
       "      <td>[life]</td>\n",
       "    </tr>\n",
       "    <tr>\n",
       "      <th>...</th>\n",
       "      <td>...</td>\n",
       "      <td>...</td>\n",
       "      <td>...</td>\n",
       "    </tr>\n",
       "    <tr>\n",
       "      <th>145</th>\n",
       "      <td>Life is to be enjoyed, not endured</td>\n",
       "      <td>Gordon B. Hinckley</td>\n",
       "      <td>[life]</td>\n",
       "    </tr>\n",
       "    <tr>\n",
       "      <th>146</th>\n",
       "      <td>Follow your heart, listen to your inner voice,...</td>\n",
       "      <td>The Light in the Heart</td>\n",
       "      <td>[be-yourself, be-yourself-inspirational, be-yo...</td>\n",
       "    </tr>\n",
       "    <tr>\n",
       "      <th>147</th>\n",
       "      <td>This is your life and its ending one moment at...</td>\n",
       "      <td>Fight Club</td>\n",
       "      <td>[life]</td>\n",
       "    </tr>\n",
       "    <tr>\n",
       "      <th>148</th>\n",
       "      <td>Don't say you don't have enough time. You have...</td>\n",
       "      <td>H. Jackson Brown Jr.</td>\n",
       "      <td>[inspirational, life]</td>\n",
       "    </tr>\n",
       "    <tr>\n",
       "      <th>149</th>\n",
       "      <td>No amount of regretting can change the past, a...</td>\n",
       "      <td>The Light in the Heart</td>\n",
       "      <td>[inspiration, inspirational, inspirational-quo...</td>\n",
       "    </tr>\n",
       "  </tbody>\n",
       "</table>\n",
       "<p>150 rows × 3 columns</p>\n",
       "</div>"
      ],
      "text/plain": [
       "                                                  text  \\\n",
       "0    I'm selfish, impatient and a little insecure. ...   \n",
       "1    You've gotta dance like there's nobody watchin...   \n",
       "2    You only live once, but if you do it right, on...   \n",
       "3    In three words I can sum up everything I've le...   \n",
       "4    To live is the rarest thing in the world. Most...   \n",
       "..                                                 ...   \n",
       "145                 Life is to be enjoyed, not endured   \n",
       "146  Follow your heart, listen to your inner voice,...   \n",
       "147  This is your life and its ending one moment at...   \n",
       "148  Don't say you don't have enough time. You have...   \n",
       "149  No amount of regretting can change the past, a...   \n",
       "\n",
       "                     author                                               tags  \n",
       "0            Marilyn Monroe  [attributed-no-source, best, life, love, misat...  \n",
       "1         William W. Purkey  [dance, heaven, hurt, inspirational, life, lov...  \n",
       "2                  Mae West                                      [humor, life]  \n",
       "3              Robert Frost                                             [life]  \n",
       "4               Oscar Wilde                                             [life]  \n",
       "..                      ...                                                ...  \n",
       "145      Gordon B. Hinckley                                             [life]  \n",
       "146  The Light in the Heart  [be-yourself, be-yourself-inspirational, be-yo...  \n",
       "147              Fight Club                                             [life]  \n",
       "148    H. Jackson Brown Jr.                              [inspirational, life]  \n",
       "149  The Light in the Heart  [inspiration, inspirational, inspirational-quo...  \n",
       "\n",
       "[150 rows x 3 columns]"
      ]
     },
     "execution_count": 10,
     "metadata": {},
     "output_type": "execute_result"
    }
   ],
   "source": [
    "df"
   ]
  },
  {
   "cell_type": "code",
   "execution_count": 12,
   "id": "e157f038-b429-44a7-92d8-32facaee387f",
   "metadata": {},
   "outputs": [],
   "source": [
    "df.to_csv(\"Life_quotes_goodreads.csv\", index=None)"
   ]
  },
  {
   "cell_type": "code",
   "execution_count": null,
   "id": "1b7d7266-a7f9-4057-bd42-4b595c51c0d6",
   "metadata": {},
   "outputs": [],
   "source": []
  }
 ],
 "metadata": {
  "kernelspec": {
   "display_name": "Python 3 (ipykernel)",
   "language": "python",
   "name": "python3"
  },
  "language_info": {
   "codemirror_mode": {
    "name": "ipython",
    "version": 3
   },
   "file_extension": ".py",
   "mimetype": "text/x-python",
   "name": "python",
   "nbconvert_exporter": "python",
   "pygments_lexer": "ipython3",
   "version": "3.10.12"
  }
 },
 "nbformat": 4,
 "nbformat_minor": 5
}
